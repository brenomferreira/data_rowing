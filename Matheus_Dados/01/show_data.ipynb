{
 "cells": [
  {
   "cell_type": "markdown",
   "metadata": {},
   "source": [
    "import packages\n",
    "---"
   ]
  },
  {
   "cell_type": "code",
   "execution_count": 83,
   "metadata": {
    "scrolled": true
   },
   "outputs": [],
   "source": [
    "import pandas as pd\n",
    "import matplotlib.pyplot as plt\n",
    "%matplotlib notebook\n",
    "import os"
   ]
  },
  {
   "cell_type": "markdown",
   "metadata": {},
   "source": [
    "files in the folder\n",
    "---"
   ]
  },
  {
   "cell_type": "code",
   "execution_count": null,
   "metadata": {},
   "outputs": [],
   "source": []
  },
  {
   "cell_type": "code",
   "execution_count": 84,
   "metadata": {
    "scrolled": false
   },
   "outputs": [
    {
     "name": "stdout",
     "output_type": "stream",
     "text": [
      "201910021549_imus_data.txt      \u001b[0m\u001b[01;35m201910021549_video_data.mp4\u001b[0m     show_data.ipynb\r\n",
      "201910021549_pos_data.pos       201910021549_vidtime_data.time\r\n",
      "\u001b[01;35m201910021549_tracking_data.mp4\u001b[0m  201910021550_stim_data.txt\r\n"
     ]
    }
   ],
   "source": [
    "ls"
   ]
  },
  {
   "cell_type": "code",
   "execution_count": null,
   "metadata": {},
   "outputs": [],
   "source": []
  },
  {
   "cell_type": "markdown",
   "metadata": {},
   "source": [
    "automatic file identification \n",
    "---"
   ]
  },
  {
   "cell_type": "code",
   "execution_count": 15,
   "metadata": {},
   "outputs": [],
   "source": [
    "imus_data_file = [f for f in os.listdir('.') if f.endswith('imus_data.txt')]\n",
    "pos_data_file = [f for f in os.listdir('.') if f.endswith('pos_data.pos')]\n",
    "vidtime_data_file = [f for f in os.listdir('.') if f.endswith('vidtime_data.time')]\n",
    "stim_data_file= [f for f in os.listdir('.') if f.endswith('stim_data.txt')]"
   ]
  },
  {
   "cell_type": "code",
   "execution_count": 67,
   "metadata": {},
   "outputs": [],
   "source": [
    "df_pos = pd.read_csv(pos_data_file[0],header=None)\n",
    "df_imus = pd.read_csv(imus_data_file[0],header=None)\n",
    "df_vidtime = pd.read_csv(vidtime_data_file[0], header=None)\n",
    "df_stim = pd.read_csv(stim_data_file[0], header=None)"
   ]
  },
  {
   "cell_type": "code",
   "execution_count": null,
   "metadata": {
    "scrolled": true
   },
   "outputs": [],
   "source": []
  }
 ],
 "metadata": {
  "kernelspec": {
   "display_name": "Python 3",
   "language": "python",
   "name": "python3"
  },
  "language_info": {
   "codemirror_mode": {
    "name": "ipython",
    "version": 3
   },
   "file_extension": ".py",
   "mimetype": "text/x-python",
   "name": "python",
   "nbconvert_exporter": "python",
   "pygments_lexer": "ipython3",
   "version": "3.8.5"
  }
 },
 "nbformat": 4,
 "nbformat_minor": 4
}
